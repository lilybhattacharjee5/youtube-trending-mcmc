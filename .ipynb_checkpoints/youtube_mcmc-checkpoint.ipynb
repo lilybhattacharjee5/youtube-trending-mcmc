{
 "cells": [
  {
   "cell_type": "code",
   "execution_count": 2,
   "metadata": {
    "collapsed": true
   },
   "outputs": [],
   "source": [
    "import numpy as np\n",
    "import math\n",
    "import pandas as pd\n",
    "import matplotlib.pyplot as plt\n",
    "import scipy.stats as stats\n",
    "\n",
    "% matplotlib inline"
   ]
  },
  {
   "cell_type": "code",
   "execution_count": 3,
   "metadata": {},
   "outputs": [
    {
     "data": {
      "text/html": [
       "<div>\n",
       "<style scoped>\n",
       "    .dataframe tbody tr th:only-of-type {\n",
       "        vertical-align: middle;\n",
       "    }\n",
       "\n",
       "    .dataframe tbody tr th {\n",
       "        vertical-align: top;\n",
       "    }\n",
       "\n",
       "    .dataframe thead th {\n",
       "        text-align: right;\n",
       "    }\n",
       "</style>\n",
       "<table border=\"1\" class=\"dataframe\">\n",
       "  <thead>\n",
       "    <tr style=\"text-align: right;\">\n",
       "      <th></th>\n",
       "      <th>video_id</th>\n",
       "      <th>trending_date</th>\n",
       "      <th>title</th>\n",
       "      <th>channel_title</th>\n",
       "      <th>category_id</th>\n",
       "      <th>publish_time</th>\n",
       "      <th>tags</th>\n",
       "      <th>views</th>\n",
       "      <th>likes</th>\n",
       "      <th>dislikes</th>\n",
       "      <th>comment_count</th>\n",
       "      <th>thumbnail_link</th>\n",
       "      <th>comments_disabled</th>\n",
       "      <th>ratings_disabled</th>\n",
       "      <th>video_error_or_removed</th>\n",
       "      <th>description</th>\n",
       "    </tr>\n",
       "  </thead>\n",
       "  <tbody>\n",
       "    <tr>\n",
       "      <th>0</th>\n",
       "      <td>2kyS6SvSYSE</td>\n",
       "      <td>17.14.11</td>\n",
       "      <td>WE WANT TO TALK ABOUT OUR MARRIAGE</td>\n",
       "      <td>CaseyNeistat</td>\n",
       "      <td>22</td>\n",
       "      <td>2017-11-13T17:13:01.000Z</td>\n",
       "      <td>SHANtell martin</td>\n",
       "      <td>748374</td>\n",
       "      <td>57527</td>\n",
       "      <td>2966</td>\n",
       "      <td>15954</td>\n",
       "      <td>https://i.ytimg.com/vi/2kyS6SvSYSE/default.jpg</td>\n",
       "      <td>False</td>\n",
       "      <td>False</td>\n",
       "      <td>False</td>\n",
       "      <td>SHANTELL'S CHANNEL - https://www.youtube.com/s...</td>\n",
       "    </tr>\n",
       "    <tr>\n",
       "      <th>1</th>\n",
       "      <td>1ZAPwfrtAFY</td>\n",
       "      <td>17.14.11</td>\n",
       "      <td>The Trump Presidency: Last Week Tonight with J...</td>\n",
       "      <td>LastWeekTonight</td>\n",
       "      <td>24</td>\n",
       "      <td>2017-11-13T07:30:00.000Z</td>\n",
       "      <td>last week tonight trump presidency|\"last week ...</td>\n",
       "      <td>2418783</td>\n",
       "      <td>97185</td>\n",
       "      <td>6146</td>\n",
       "      <td>12703</td>\n",
       "      <td>https://i.ytimg.com/vi/1ZAPwfrtAFY/default.jpg</td>\n",
       "      <td>False</td>\n",
       "      <td>False</td>\n",
       "      <td>False</td>\n",
       "      <td>One year after the presidential election, John...</td>\n",
       "    </tr>\n",
       "    <tr>\n",
       "      <th>2</th>\n",
       "      <td>5qpjK5DgCt4</td>\n",
       "      <td>17.14.11</td>\n",
       "      <td>Racist Superman | Rudy Mancuso, King Bach &amp; Le...</td>\n",
       "      <td>Rudy Mancuso</td>\n",
       "      <td>23</td>\n",
       "      <td>2017-11-12T19:05:24.000Z</td>\n",
       "      <td>racist superman|\"rudy\"|\"mancuso\"|\"king\"|\"bach\"...</td>\n",
       "      <td>3191434</td>\n",
       "      <td>146033</td>\n",
       "      <td>5339</td>\n",
       "      <td>8181</td>\n",
       "      <td>https://i.ytimg.com/vi/5qpjK5DgCt4/default.jpg</td>\n",
       "      <td>False</td>\n",
       "      <td>False</td>\n",
       "      <td>False</td>\n",
       "      <td>WATCH MY PREVIOUS VIDEO ▶ \\n\\nSUBSCRIBE ► http...</td>\n",
       "    </tr>\n",
       "    <tr>\n",
       "      <th>3</th>\n",
       "      <td>puqaWrEC7tY</td>\n",
       "      <td>17.14.11</td>\n",
       "      <td>Nickelback Lyrics: Real or Fake?</td>\n",
       "      <td>Good Mythical Morning</td>\n",
       "      <td>24</td>\n",
       "      <td>2017-11-13T11:00:04.000Z</td>\n",
       "      <td>rhett and link|\"gmm\"|\"good mythical morning\"|\"...</td>\n",
       "      <td>343168</td>\n",
       "      <td>10172</td>\n",
       "      <td>666</td>\n",
       "      <td>2146</td>\n",
       "      <td>https://i.ytimg.com/vi/puqaWrEC7tY/default.jpg</td>\n",
       "      <td>False</td>\n",
       "      <td>False</td>\n",
       "      <td>False</td>\n",
       "      <td>Today we find out if Link is a Nickelback amat...</td>\n",
       "    </tr>\n",
       "    <tr>\n",
       "      <th>4</th>\n",
       "      <td>d380meD0W0M</td>\n",
       "      <td>17.14.11</td>\n",
       "      <td>I Dare You: GOING BALD!?</td>\n",
       "      <td>nigahiga</td>\n",
       "      <td>24</td>\n",
       "      <td>2017-11-12T18:01:41.000Z</td>\n",
       "      <td>ryan|\"higa\"|\"higatv\"|\"nigahiga\"|\"i dare you\"|\"...</td>\n",
       "      <td>2095731</td>\n",
       "      <td>132235</td>\n",
       "      <td>1989</td>\n",
       "      <td>17518</td>\n",
       "      <td>https://i.ytimg.com/vi/d380meD0W0M/default.jpg</td>\n",
       "      <td>False</td>\n",
       "      <td>False</td>\n",
       "      <td>False</td>\n",
       "      <td>I know it's been a while since we did this sho...</td>\n",
       "    </tr>\n",
       "  </tbody>\n",
       "</table>\n",
       "</div>"
      ],
      "text/plain": [
       "      video_id trending_date  \\\n",
       "0  2kyS6SvSYSE      17.14.11   \n",
       "1  1ZAPwfrtAFY      17.14.11   \n",
       "2  5qpjK5DgCt4      17.14.11   \n",
       "3  puqaWrEC7tY      17.14.11   \n",
       "4  d380meD0W0M      17.14.11   \n",
       "\n",
       "                                               title          channel_title  \\\n",
       "0                 WE WANT TO TALK ABOUT OUR MARRIAGE           CaseyNeistat   \n",
       "1  The Trump Presidency: Last Week Tonight with J...        LastWeekTonight   \n",
       "2  Racist Superman | Rudy Mancuso, King Bach & Le...           Rudy Mancuso   \n",
       "3                   Nickelback Lyrics: Real or Fake?  Good Mythical Morning   \n",
       "4                           I Dare You: GOING BALD!?               nigahiga   \n",
       "\n",
       "   category_id              publish_time  \\\n",
       "0           22  2017-11-13T17:13:01.000Z   \n",
       "1           24  2017-11-13T07:30:00.000Z   \n",
       "2           23  2017-11-12T19:05:24.000Z   \n",
       "3           24  2017-11-13T11:00:04.000Z   \n",
       "4           24  2017-11-12T18:01:41.000Z   \n",
       "\n",
       "                                                tags    views   likes  \\\n",
       "0                                    SHANtell martin   748374   57527   \n",
       "1  last week tonight trump presidency|\"last week ...  2418783   97185   \n",
       "2  racist superman|\"rudy\"|\"mancuso\"|\"king\"|\"bach\"...  3191434  146033   \n",
       "3  rhett and link|\"gmm\"|\"good mythical morning\"|\"...   343168   10172   \n",
       "4  ryan|\"higa\"|\"higatv\"|\"nigahiga\"|\"i dare you\"|\"...  2095731  132235   \n",
       "\n",
       "   dislikes  comment_count                                  thumbnail_link  \\\n",
       "0      2966          15954  https://i.ytimg.com/vi/2kyS6SvSYSE/default.jpg   \n",
       "1      6146          12703  https://i.ytimg.com/vi/1ZAPwfrtAFY/default.jpg   \n",
       "2      5339           8181  https://i.ytimg.com/vi/5qpjK5DgCt4/default.jpg   \n",
       "3       666           2146  https://i.ytimg.com/vi/puqaWrEC7tY/default.jpg   \n",
       "4      1989          17518  https://i.ytimg.com/vi/d380meD0W0M/default.jpg   \n",
       "\n",
       "   comments_disabled  ratings_disabled  video_error_or_removed  \\\n",
       "0              False             False                   False   \n",
       "1              False             False                   False   \n",
       "2              False             False                   False   \n",
       "3              False             False                   False   \n",
       "4              False             False                   False   \n",
       "\n",
       "                                         description  \n",
       "0  SHANTELL'S CHANNEL - https://www.youtube.com/s...  \n",
       "1  One year after the presidential election, John...  \n",
       "2  WATCH MY PREVIOUS VIDEO ▶ \\n\\nSUBSCRIBE ► http...  \n",
       "3  Today we find out if Link is a Nickelback amat...  \n",
       "4  I know it's been a while since we did this sho...  "
      ]
     },
     "execution_count": 3,
     "metadata": {},
     "output_type": "execute_result"
    }
   ],
   "source": [
    "# load in us trending videos & category ids\n",
    "trending_videos = pd.read_csv(\"youtube-new/USvideos.csv\")\n",
    "trending_videos.head()"
   ]
  },
  {
   "cell_type": "code",
   "execution_count": 4,
   "metadata": {},
   "outputs": [
    {
     "data": {
      "text/html": [
       "<div>\n",
       "<style scoped>\n",
       "    .dataframe tbody tr th:only-of-type {\n",
       "        vertical-align: middle;\n",
       "    }\n",
       "\n",
       "    .dataframe tbody tr th {\n",
       "        vertical-align: top;\n",
       "    }\n",
       "\n",
       "    .dataframe thead th {\n",
       "        text-align: right;\n",
       "    }\n",
       "</style>\n",
       "<table border=\"1\" class=\"dataframe\">\n",
       "  <thead>\n",
       "    <tr style=\"text-align: right;\">\n",
       "      <th></th>\n",
       "      <th>kind</th>\n",
       "      <th>etag</th>\n",
       "      <th>items</th>\n",
       "    </tr>\n",
       "  </thead>\n",
       "  <tbody>\n",
       "    <tr>\n",
       "      <th>0</th>\n",
       "      <td>youtube#videoCategoryListResponse</td>\n",
       "      <td>\"m2yskBQFythfE4irbTIeOgYYfBU/S730Ilt-Fi-emsQJv...</td>\n",
       "      <td>{'kind': 'youtube#videoCategory', 'etag': '\"m2...</td>\n",
       "    </tr>\n",
       "    <tr>\n",
       "      <th>1</th>\n",
       "      <td>youtube#videoCategoryListResponse</td>\n",
       "      <td>\"m2yskBQFythfE4irbTIeOgYYfBU/S730Ilt-Fi-emsQJv...</td>\n",
       "      <td>{'kind': 'youtube#videoCategory', 'etag': '\"m2...</td>\n",
       "    </tr>\n",
       "    <tr>\n",
       "      <th>2</th>\n",
       "      <td>youtube#videoCategoryListResponse</td>\n",
       "      <td>\"m2yskBQFythfE4irbTIeOgYYfBU/S730Ilt-Fi-emsQJv...</td>\n",
       "      <td>{'kind': 'youtube#videoCategory', 'etag': '\"m2...</td>\n",
       "    </tr>\n",
       "    <tr>\n",
       "      <th>3</th>\n",
       "      <td>youtube#videoCategoryListResponse</td>\n",
       "      <td>\"m2yskBQFythfE4irbTIeOgYYfBU/S730Ilt-Fi-emsQJv...</td>\n",
       "      <td>{'kind': 'youtube#videoCategory', 'etag': '\"m2...</td>\n",
       "    </tr>\n",
       "    <tr>\n",
       "      <th>4</th>\n",
       "      <td>youtube#videoCategoryListResponse</td>\n",
       "      <td>\"m2yskBQFythfE4irbTIeOgYYfBU/S730Ilt-Fi-emsQJv...</td>\n",
       "      <td>{'kind': 'youtube#videoCategory', 'etag': '\"m2...</td>\n",
       "    </tr>\n",
       "  </tbody>\n",
       "</table>\n",
       "</div>"
      ],
      "text/plain": [
       "                                kind  \\\n",
       "0  youtube#videoCategoryListResponse   \n",
       "1  youtube#videoCategoryListResponse   \n",
       "2  youtube#videoCategoryListResponse   \n",
       "3  youtube#videoCategoryListResponse   \n",
       "4  youtube#videoCategoryListResponse   \n",
       "\n",
       "                                                etag  \\\n",
       "0  \"m2yskBQFythfE4irbTIeOgYYfBU/S730Ilt-Fi-emsQJv...   \n",
       "1  \"m2yskBQFythfE4irbTIeOgYYfBU/S730Ilt-Fi-emsQJv...   \n",
       "2  \"m2yskBQFythfE4irbTIeOgYYfBU/S730Ilt-Fi-emsQJv...   \n",
       "3  \"m2yskBQFythfE4irbTIeOgYYfBU/S730Ilt-Fi-emsQJv...   \n",
       "4  \"m2yskBQFythfE4irbTIeOgYYfBU/S730Ilt-Fi-emsQJv...   \n",
       "\n",
       "                                               items  \n",
       "0  {'kind': 'youtube#videoCategory', 'etag': '\"m2...  \n",
       "1  {'kind': 'youtube#videoCategory', 'etag': '\"m2...  \n",
       "2  {'kind': 'youtube#videoCategory', 'etag': '\"m2...  \n",
       "3  {'kind': 'youtube#videoCategory', 'etag': '\"m2...  \n",
       "4  {'kind': 'youtube#videoCategory', 'etag': '\"m2...  "
      ]
     },
     "execution_count": 4,
     "metadata": {},
     "output_type": "execute_result"
    }
   ],
   "source": [
    "category_ids = pd.read_json(\"youtube-new/US_category_id.json\")\n",
    "category_ids.head()"
   ]
  },
  {
   "cell_type": "code",
   "execution_count": 7,
   "metadata": {},
   "outputs": [
    {
     "data": {
      "text/plain": [
       "Index(['video_id', 'trending_date', 'title', 'channel_title', 'category_id',\n",
       "       'publish_time', 'tags', 'views', 'likes', 'dislikes', 'comment_count',\n",
       "       'thumbnail_link', 'comments_disabled', 'ratings_disabled',\n",
       "       'video_error_or_removed', 'description'],\n",
       "      dtype='object')"
      ]
     },
     "execution_count": 7,
     "metadata": {},
     "output_type": "execute_result"
    }
   ],
   "source": [
    "trending_videos.columns"
   ]
  },
  {
   "cell_type": "code",
   "execution_count": 5,
   "metadata": {
    "collapsed": true
   },
   "outputs": [],
   "source": [
    "def publish_month(publish_time):\n",
    "    return publish_time[5:7]\n",
    "\n",
    "def publish_hour(publish_time):\n",
    "    return publish_time[11:13]"
   ]
  },
  {
   "cell_type": "code",
   "execution_count": 26,
   "metadata": {
    "scrolled": false
   },
   "outputs": [
    {
     "name": "stdout",
     "output_type": "stream",
     "text": [
      "{'CaseyNeistat': 14, 'Estée Lalonde': 3, 'Daelric': 2, 'Ellie and Jared': 7, 'CIRCUITBEARD': 1}\n"
     ]
    }
   ],
   "source": [
    "# f(channel_title | )\n",
    "\n",
    "channel_title_distr = {}\n",
    "\n",
    "for i in range(len(trending_videos)):\n",
    "    curr_row = trending_videos.iloc[i, ]\n",
    "    \n",
    "    channel_title = curr_row.channel_title\n",
    "    category_id = curr_row.category_id\n",
    "    pub_month = publish_month(curr_row.publish_time)\n",
    "    pub_hour = publish_hour(curr_row.publish_time)\n",
    "    comments_disabled = curr_row.comments_disabled\n",
    "    ratings_disabled = curr_row.ratings_disabled\n",
    "    video_err = curr_row.video_error_or_removed\n",
    "    \n",
    "    curr_key = (category_id, pub_month, pub_hour, comments_disabled, ratings_disabled, video_err)\n",
    "    \n",
    "    if curr_key in channel_title_distr:\n",
    "        if channel_title in channel_title_distr[curr_key]:\n",
    "            channel_title_distr[curr_key][channel_title] += 1\n",
    "        else:\n",
    "            channel_title_distr[curr_key][channel_title] = 1\n",
    "    else:\n",
    "        channel_title_distr[curr_key] = {channel_title: 1}\n",
    "    \n",
    "print(channel_title_distr[(22, '11', '17', False, False, False)])"
   ]
  },
  {
   "cell_type": "code",
   "execution_count": null,
   "metadata": {
    "collapsed": true
   },
   "outputs": [],
   "source": []
  },
  {
   "cell_type": "code",
   "execution_count": 6,
   "metadata": {},
   "outputs": [],
   "source": [
    "def views_cond_distr(other_x):\n",
    "    theta_1, theta_2, theta_3, theta_4, theta_5 = other_x\n",
    "    theta_0_freqs = {}\n",
    "    \n",
    "    for i in range(len(trending_videos)):\n",
    "        curr_row = trending_videos.iloc[i, ]\n",
    "        \n",
    "        likes = curr_row.likes\n",
    "        \n",
    "        views = curr_row.views\n",
    "        pub_month = int(publish_month(curr_row.publish_time))\n",
    "        pub_hour = int(publish_hour(curr_row.publish_time))\n",
    "        comments_disabled = -1 if curr_row.comments_disabled else 1\n",
    "        ratings_disabled = -1 if curr_row.ratings_disabled else 1\n",
    "        video_err = -1 if curr_row.video_error_or_removed else 1\n",
    "        \n",
    "        theta_0 = (likes - theta_1 * pub_month - theta_2 * pub_hour - theta_3 * comments_disabled - theta_4 * ratings_disabled - theta_5 * video_err) / views\n",
    "        \n",
    "        if theta_0 in theta_0_freqs:\n",
    "            theta_0_freqs[theta_0] += 1\n",
    "        else:\n",
    "            theta_0_freqs[theta_0] = 1\n",
    "    return theta_0_freqs\n",
    "\n",
    "ex_distr = views_cond_distr([1, 1, 1, 1, 1])"
   ]
  },
  {
   "cell_type": "code",
   "execution_count": 7,
   "metadata": {},
   "outputs": [
    {
     "data": {
      "image/png": "[encoded data removed]",
      "text/plain": [
       "<matplotlib.figure.Figure at 0x1a161feb38>"
      ]
     },
     "metadata": {},
     "output_type": "display_data"
    }
   ],
   "source": [
    "distr_list = []\n",
    "\n",
    "for k, v in ex_distr.items():\n",
    "    for _ in range(v):\n",
    "        distr_list += [k]\n",
    "\n",
    "plt.hist(distr_list)\n",
    "plt.show()"
   ]
  },
  {
   "cell_type": "code",
   "execution_count": 8,
   "metadata": {},
   "outputs": [
    {
     "name": "stdout",
     "output_type": "stream",
     "text": [
      "0.02818111079183524\n"
     ]
    }
   ],
   "source": [
    "theta_0_sample = np.random.choice(distr_list)\n",
    "print(theta_0_sample)"
   ]
  },
  {
   "cell_type": "code",
   "execution_count": 9,
   "metadata": {
    "collapsed": true
   },
   "outputs": [],
   "source": [
    "def cond_sample(cond_distr, other_x, enable_plot = False):\n",
    "    distr = cond_distr(other_x)\n",
    "    distr_list = []\n",
    "    for k, v in distr.items():\n",
    "        for _ in range(v):\n",
    "            distr_list += [k]\n",
    "    if enable_plot:\n",
    "        plt.hist(distr_list)\n",
    "        plt.show()\n",
    "    return np.random.choice(distr_list)"
   ]
  },
  {
   "cell_type": "code",
   "execution_count": 10,
   "metadata": {
    "scrolled": true
   },
   "outputs": [
    {
     "data": {
      "image/png": "[encoded data removed]",
      "text/plain": [
       "<matplotlib.figure.Figure at 0x105567080>"
      ]
     },
     "metadata": {},
     "output_type": "display_data"
    },
    {
     "data": {
      "text/plain": [
       "-156915.2"
      ]
     },
     "execution_count": 10,
     "metadata": {},
     "output_type": "execute_result"
    }
   ],
   "source": [
    "def pub_month_cond_distr(other_x):\n",
    "    theta_0, theta_2, theta_3, theta_4, theta_5 = other_x\n",
    "    theta_1_freqs = {}\n",
    "    \n",
    "    for i in range(len(trending_videos)):\n",
    "        curr_row = trending_videos.iloc[i, ]\n",
    "        \n",
    "        likes = curr_row.likes\n",
    "        \n",
    "        views = curr_row.views\n",
    "        pub_month = int(publish_month(curr_row.publish_time))\n",
    "        pub_hour = int(publish_hour(curr_row.publish_time))\n",
    "        comments_disabled = -1 if curr_row.comments_disabled else 1\n",
    "        ratings_disabled = -1 if curr_row.ratings_disabled else 1\n",
    "        video_err = -1 if curr_row.video_error_or_removed else 1\n",
    "        \n",
    "        theta_1 = (likes - theta_0 * views - theta_2 * pub_hour - theta_3 * comments_disabled - theta_4 * ratings_disabled - theta_5 * video_err) / pub_month\n",
    "        \n",
    "        if theta_1 in theta_1_freqs:\n",
    "            theta_1_freqs[theta_1] += 1\n",
    "        else:\n",
    "            theta_1_freqs[theta_1] = 1\n",
    "    return theta_1_freqs\n",
    "\n",
    "cond_sample(pub_month_cond_distr, [1, 1, 1, 1, 1], enable_plot = True)"
   ]
  },
  {
   "cell_type": "code",
   "execution_count": 11,
   "metadata": {},
   "outputs": [
    {
     "data": {
      "image/png": "[encoded data removed]",
      "text/plain": [
       "<matplotlib.figure.Figure at 0x105577898>"
      ]
     },
     "metadata": {},
     "output_type": "display_data"
    },
    {
     "data": {
      "text/plain": [
       "-224662.2"
      ]
     },
     "execution_count": 11,
     "metadata": {},
     "output_type": "execute_result"
    }
   ],
   "source": [
    "def pub_hour_cond_distr(other_x):\n",
    "    theta_0, theta_1, theta_3, theta_4, theta_5 = other_x\n",
    "    theta_2_freqs = {}\n",
    "    \n",
    "    for i in range(len(trending_videos)):\n",
    "        curr_row = trending_videos.iloc[i, ]\n",
    "        \n",
    "        likes = curr_row.likes\n",
    "        \n",
    "        views = curr_row.views\n",
    "        pub_month = int(publish_month(curr_row.publish_time))\n",
    "        pub_hour = int(publish_hour(curr_row.publish_time)) + 1\n",
    "        comments_disabled = -1 if curr_row.comments_disabled else 1\n",
    "        ratings_disabled = -1 if curr_row.ratings_disabled else 1\n",
    "        video_err = -1 if curr_row.video_error_or_removed else 1\n",
    "        \n",
    "        theta_2 = (likes - theta_0 * views - theta_1 * pub_month - theta_3 * comments_disabled - theta_4 * ratings_disabled - theta_5 * video_err) / pub_hour\n",
    "        \n",
    "        if theta_2 in theta_2_freqs:\n",
    "            theta_2_freqs[theta_2] += 1\n",
    "        else:\n",
    "            theta_2_freqs[theta_2] = 1\n",
    "    return theta_2_freqs\n",
    "\n",
    "cond_sample(pub_month_cond_distr, [1, 1, 1, 1, 1], enable_plot = True)"
   ]
  },
  {
   "cell_type": "code",
   "execution_count": 12,
   "metadata": {},
   "outputs": [
    {
     "data": {
      "image/png": "[encoded data removed]",
      "text/plain": [
       "<matplotlib.figure.Figure at 0x1a16327588>"
      ]
     },
     "metadata": {},
     "output_type": "display_data"
    },
    {
     "data": {
      "text/plain": [
       "-62699.72727272727"
      ]
     },
     "execution_count": 12,
     "metadata": {},
     "output_type": "execute_result"
    }
   ],
   "source": [
    "def comments_disabled_cond_distr(other_x):\n",
    "    theta_0, theta_1, theta_2, theta_4, theta_5 = other_x\n",
    "    theta_3_freqs = {}\n",
    "    \n",
    "    for i in range(len(trending_videos)):\n",
    "        curr_row = trending_videos.iloc[i, ]\n",
    "        \n",
    "        likes = curr_row.likes\n",
    "        \n",
    "        views = curr_row.views\n",
    "        pub_month = int(publish_month(curr_row.publish_time))\n",
    "        pub_hour = int(publish_hour(curr_row.publish_time))\n",
    "        comments_disabled = -1 if curr_row.comments_disabled else 1\n",
    "        ratings_disabled = -1 if curr_row.ratings_disabled else 1\n",
    "        video_err = -1 if curr_row.video_error_or_removed else 1\n",
    "        \n",
    "        theta_3 = (likes - theta_0 * views - theta_1 * pub_month - theta_2 * pub_hour - theta_4 * ratings_disabled - theta_5 * video_err) / comments_disabled\n",
    "        \n",
    "        if theta_3 in theta_3_freqs:\n",
    "            theta_3_freqs[theta_3] += 1\n",
    "        else:\n",
    "            theta_3_freqs[theta_3] = 1\n",
    "    return theta_3_freqs\n",
    "\n",
    "cond_sample(pub_month_cond_distr, [1, 1, 1, 1, 1], enable_plot = True)"
   ]
  },
  {
   "cell_type": "code",
   "execution_count": 13,
   "metadata": {},
   "outputs": [
    {
     "data": {
      "image/png": "[encoded data removed]",
      "text/plain": [
       "<matplotlib.figure.Figure at 0x1a18587550>"
      ]
     },
     "metadata": {},
     "output_type": "display_data"
    },
    {
     "data": {
      "text/plain": [
       "-32204.5"
      ]
     },
     "execution_count": 13,
     "metadata": {},
     "output_type": "execute_result"
    }
   ],
   "source": [
    "def ratings_disabled_cond_distr(other_x):\n",
    "    theta_0, theta_1, theta_2, theta_3, theta_5 = other_x\n",
    "    theta_4_freqs = {}\n",
    "    \n",
    "    for i in range(len(trending_videos)):\n",
    "        curr_row = trending_videos.iloc[i, ]\n",
    "        \n",
    "        likes = curr_row.likes\n",
    "        \n",
    "        views = curr_row.views\n",
    "        pub_month = int(publish_month(curr_row.publish_time))\n",
    "        pub_hour = int(publish_hour(curr_row.publish_time))\n",
    "        comments_disabled = -1 if curr_row.comments_disabled else 1\n",
    "        ratings_disabled = -1 if curr_row.ratings_disabled else 1\n",
    "        video_err = -1 if curr_row.video_error_or_removed else 1\n",
    "        \n",
    "        theta_4 = (likes - theta_0 * views - theta_1 * pub_month - theta_2 * pub_hour - theta_3 * comments_disabled - theta_5 * video_err) / ratings_disabled\n",
    "        \n",
    "        if theta_4 in theta_4_freqs:\n",
    "            theta_4_freqs[theta_4] += 1\n",
    "        else:\n",
    "            theta_4_freqs[theta_4] = 1\n",
    "    return theta_4_freqs\n",
    "\n",
    "cond_sample(pub_month_cond_distr, [1, 1, 1, 1, 1], enable_plot = True)"
   ]
  },
  {
   "cell_type": "code",
   "execution_count": 14,
   "metadata": {},
   "outputs": [
    {
     "data": {
      "image/png": "[encoded data removed]",
      "text/plain": [
       "<matplotlib.figure.Figure at 0x105557e80>"
      ]
     },
     "metadata": {},
     "output_type": "display_data"
    },
    {
     "data": {
      "text/plain": [
       "-2718.2"
      ]
     },
     "execution_count": 14,
     "metadata": {},
     "output_type": "execute_result"
    }
   ],
   "source": [
    "def video_err_cond_distr(other_x):\n",
    "    theta_0, theta_1, theta_2, theta_3, theta_4 = other_x\n",
    "    theta_5_freqs = {}\n",
    "    \n",
    "    for i in range(len(trending_videos)):\n",
    "        curr_row = trending_videos.iloc[i, ]\n",
    "        \n",
    "        likes = curr_row.likes\n",
    "        \n",
    "        views = curr_row.views\n",
    "        pub_month = int(publish_month(curr_row.publish_time))\n",
    "        pub_hour = int(publish_hour(curr_row.publish_time))\n",
    "        comments_disabled = -1 if curr_row.comments_disabled else 1\n",
    "        ratings_disabled = -1 if curr_row.ratings_disabled else 1\n",
    "        video_err = -1 if curr_row.video_error_or_removed else 1\n",
    "        \n",
    "        theta_5 = (likes - theta_0 * views - theta_1 * pub_month - theta_2 * pub_hour - theta_3 * comments_disabled - theta_4 * ratings_disabled) / video_err\n",
    "        \n",
    "        if theta_5 in theta_5_freqs:\n",
    "            theta_5_freqs[theta_5] += 1\n",
    "        else:\n",
    "            theta_5_freqs[theta_5] = 1\n",
    "    return theta_5_freqs\n",
    "\n",
    "cond_sample(pub_month_cond_distr, [1, 1, 1, 1, 1], enable_plot = True)"
   ]
  },
  {
   "cell_type": "code",
   "execution_count": null,
   "metadata": {},
   "outputs": [],
   "source": [
    "# initial values\n",
    "# [views, pub_month, pub_hour, comments_disabled, ratings_disabled, video_error_or_removed]\n",
    "x = [1, 1, 1, 1, 1, 1]\n",
    "\n",
    "# start the MCMC sampler\n",
    "for i in range(10):\n",
    "    x[0] = cond_sample(views_cond_distr, x[1:])\n",
    "    x[1] = cond_sample(pub_month_cond_distr, [x[0]] + x[2:])\n",
    "    x[2] = cond_sample(pub_hour_cond_distr, [x[0], x[1]] + x[3:])\n",
    "    x[3] = cond_sample(comments_disabled_cond_distr, [x[0], x[1], x[2]] + x[4:])\n",
    "    x[4] = cond_sample(ratings_disabled_cond_distr, [x[0], x[1], x[2], x[3]] + x[5:])\n",
    "    x[5] = cond_sample(video_err_cond_distr, [x[0], x[1], x[2], x[3], x[4]])\n",
    "\n",
    "print(x)"
   ]
  },
  {
   "cell_type": "code",
   "execution_count": null,
   "metadata": {
    "collapsed": true
   },
   "outputs": [],
   "source": []
  }
 ],
 "metadata": {
  "kernelspec": {
   "display_name": "Python 3",
   "language": "python",
   "name": "python3"
  },
  "language_info": {
   "codemirror_mode": {
    "name": "ipython",
    "version": 3
   },
   "file_extension": ".py",
   "mimetype": "text/x-python",
   "name": "python",
   "nbconvert_exporter": "python",
   "pygments_lexer": "ipython3",
   "version": "3.6.3"
  }
 },
 "nbformat": 4,
 "nbformat_minor": 2
}
